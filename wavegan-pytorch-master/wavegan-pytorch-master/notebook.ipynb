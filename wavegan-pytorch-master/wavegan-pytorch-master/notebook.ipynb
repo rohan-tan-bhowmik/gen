{
  "cells": [
    {
      "cell_type": "markdown",
      "metadata": {},
      "source": [
        "[![Open In Colab](https://colab.research.google.com/assets/colab-badge.svg)](https://colab.research.google.com/github/mostafaelaraby/wavegan-pytorch/blob/master/notebook.ipynb)\n"
      ]
    },
    {
      "cell_type": "markdown",
      "metadata": {
        "colab_type": "text",
        "id": "GYMymOZmXP05"
      },
      "source": [
        "## Cloning Repo and setup of dependencies"
      ]
    },
    {
      "cell_type": "code",
      "execution_count": null,
      "metadata": {
        "colab": {
          "base_uri": "https://localhost:8080/",
          "height": 125
        },
        "colab_type": "code",
        "id": "UMvZjUddXAte",
        "outputId": "6334f2f7-c7ea-4107-e7e5-0e90cccd58fe"
      },
      "outputs": [],
      "source": [
        "!git clone https://github.com/mostafaelaraby/wavegan-pytorch.git"
      ]
    },
    {
      "cell_type": "code",
      "execution_count": null,
      "metadata": {
        "colab": {},
        "colab_type": "code",
        "id": "daby8oFNXdH0"
      },
      "outputs": [],
      "source": [
        "import os\n",
        "os.chdir('wavegan-pytorch')"
      ]
    },
    {
      "cell_type": "code",
      "execution_count": null,
      "metadata": {
        "colab": {
          "base_uri": "https://localhost:8080/",
          "height": 415
        },
        "colab_type": "code",
        "id": "ipSNRqjpXTLD",
        "outputId": "f28244a6-7fb7-4e92-83b2-a8a56b324f29"
      },
      "outputs": [],
      "source": [
        "!pip3  install -r requirements.txt"
      ]
    },
    {
      "cell_type": "markdown",
      "metadata": {
        "colab_type": "text",
        "id": "MyaocfY_XkCx"
      },
      "source": [
        "## Downloading Data"
      ]
    },
    {
      "cell_type": "markdown",
      "metadata": {
        "colab_type": "text",
        "id": "WXnrT31T3T4o"
      },
      "source": [
        "### Speech Commands Zero through Nine (SC09)"
      ]
    },
    {
      "cell_type": "code",
      "execution_count": null,
      "metadata": {
        "colab": {
          "base_uri": "https://localhost:8080/",
          "height": 215
        },
        "colab_type": "code",
        "id": "59ZMe9PhXlRh",
        "outputId": "7a9d867d-76c5-45c5-88c7-2bfeee758c65"
      },
      "outputs": [],
      "source": [
        "!wget http://deepyeti.ucsd.edu/cdonahue/wavegan/data/sc09.tar.gz"
      ]
    },
    {
      "cell_type": "code",
      "execution_count": null,
      "metadata": {
        "colab": {
          "base_uri": "https://localhost:8080/",
          "height": 1000
        },
        "colab_type": "code",
        "id": "hffl6t9fY8lQ",
        "outputId": "850be162-7c2b-4287-a4c3-11a710f13927"
      },
      "outputs": [],
      "source": [
        "!tar -xvf sc09.tar.gz"
      ]
    },
    {
      "cell_type": "markdown",
      "metadata": {
        "colab_type": "text",
        "id": "tfdKEfBP3bnz"
      },
      "source": [
        "### Drum sound effects"
      ]
    },
    {
      "cell_type": "code",
      "execution_count": null,
      "metadata": {
        "colab": {
          "base_uri": "https://localhost:8080/",
          "height": 215
        },
        "colab_type": "code",
        "id": "b5gGot_4X-gH",
        "outputId": "448907bf-9576-4ffb-db08-dab5fe431686"
      },
      "outputs": [],
      "source": [
        "!wget http://deepyeti.ucsd.edu/cdonahue/wavegan/data/drums.tar.gz"
      ]
    },
    {
      "cell_type": "code",
      "execution_count": null,
      "metadata": {
        "colab": {
          "base_uri": "https://localhost:8080/",
          "height": 1000
        },
        "colab_type": "code",
        "id": "QphLdj5zY56t",
        "outputId": "647a2d1c-219e-4a10-8192-7e479482e3d0"
      },
      "outputs": [],
      "source": [
        "!tar -xvf drums.tar.gz"
      ]
    },
    {
      "cell_type": "markdown",
      "metadata": {
        "colab_type": "text",
        "id": "RgnM-ulA3fx3"
      },
      "source": [
        "### Bach piano performances"
      ]
    },
    {
      "cell_type": "code",
      "execution_count": null,
      "metadata": {
        "colab": {
          "base_uri": "https://localhost:8080/",
          "height": 215
        },
        "colab_type": "code",
        "id": "TdKGCMpnYGP4",
        "outputId": "a8f8adf4-35ef-4ef2-bfa9-57e9dc1409d5"
      },
      "outputs": [],
      "source": [
        "!wget http://deepyeti.ucsd.edu/cdonahue/wavegan/data/mancini_piano.tar.gz"
      ]
    },
    {
      "cell_type": "code",
      "execution_count": null,
      "metadata": {
        "colab": {
          "base_uri": "https://localhost:8080/",
          "height": 413
        },
        "colab_type": "code",
        "id": "HXZ9erR3Yvw8",
        "outputId": "60fe97dc-3a24-40fa-a87b-be6eaad0a48f"
      },
      "outputs": [],
      "source": [
        "!tar -xvf mancini_piano.tar.gz"
      ]
    },
    {
      "cell_type": "markdown",
      "metadata": {
        "colab_type": "text",
        "id": "SnS4lQeq62gS"
      },
      "source": [
        "### Params"
      ]
    },
    {
      "cell_type": "code",
      "execution_count": null,
      "metadata": {
        "colab": {},
        "colab_type": "code",
        "id": "eImpOc6i64KU"
      },
      "outputs": [],
      "source": [
        "%cat params.py\n",
        "# copy cell content to next cell and edit your params then run "
      ]
    },
    {
      "cell_type": "code",
      "execution_count": 3,
      "metadata": {
        "colab": {
          "base_uri": "https://localhost:8080/",
          "height": 35
        },
        "colab_type": "code",
        "id": "F0_YaLJ67nVS",
        "outputId": "dd9ce7a5-2310-41a8-e139-32bdf6fe3e8c"
      },
      "outputs": [
        {
          "name": "stdout",
          "output_type": "stream",
          "text": [
            "Overwriting params.py\n"
          ]
        }
      ],
      "source": [
        "%%writefile params.py\n",
        "import torch\n",
        "import random\n",
        "import numpy as np\n",
        "import logging\n",
        "import os\n",
        "\n",
        "#############################\n",
        "# DataSet Path\n",
        "#############################s\n",
        "target_signals_dir = 'piano'\n",
        "#############################\n",
        "# Model Params\n",
        "#############################\n",
        "model_prefix = 'test' # name of the model to be saved\n",
        "n_iterations = 100000\n",
        "lr_g = 1e-4\n",
        "lr_d = 3e-4 # you can use with discriminator having a larger learning rate than generator instead of using n_critic updates ttur https://arxiv.org/abs/1706.08500\n",
        "beta1 = 0.5\n",
        "beta2 = 0.9\n",
        "use_batchnorm=False\n",
        "validate=True\n",
        "decay_lr = False # used to linearly deay learning rate untill reaching 0 at iteration 100,000\n",
        "generator_batch_size_factor = 1 # in some cases we might try to update the generator with double batch size used in the discriminator https://arxiv.org/abs/1706.08500\n",
        "n_critic = 1 # update generator every n_critic steps if lr_g = lr_d the n_critic's default value is 5 \n",
        "# gradient penalty regularization factor.\n",
        "p_coeff = 10\n",
        "batch_size = 10\n",
        "noise_latent_dim = 100  # size of the sampling noise\n",
        "model_capacity_size = 32    # model capacity during training can be reduced to 32 for larger window length of 2 seconds and 4 seconds\n",
        "# rate of storing validation and costs params\n",
        "store_cost_every = 300\n",
        "progress_bar_step_iter_size = 400\n",
        "#############################\n",
        "# Backup Params\n",
        "#############################\n",
        "take_backup = True\n",
        "backup_every_n_iters = 1000\n",
        "save_samples_every = 1000\n",
        "output_dir = 'output'\n",
        "if not(os.path.isdir(output_dir)):\n",
        "    os.makedirs(output_dir)\n",
        "#############################\n",
        "# Audio Reading Params\n",
        "#############################\n",
        "window_length = 65536 #[16384, 32768, 65536] in case of a longer window change model_capacity_size to 32\n",
        "sampling_rate = 16000\n",
        "normalize_audio = True \n",
        "num_channels = 1\n",
        "\n",
        "#############################\n",
        "# Logger init\n",
        "#############################\n",
        "LOGGER = logging.getLogger('wavegan')\n",
        "LOGGER.setLevel(logging.DEBUG)\n",
        "#############################\n",
        "# Torch Init and seed setting\n",
        "#############################\n",
        "cuda = torch.cuda.is_available()\n",
        "device = torch.device(\"cuda:0\" if (torch.cuda.is_available()) else \"cpu\")\n",
        "# update the seed\n",
        "manual_seed = 2019 \n",
        "random.seed(manual_seed)\n",
        "torch.manual_seed(manual_seed)\n",
        "np.random.seed(manual_seed)\n",
        "if cuda:\n",
        "    torch.cuda.manual_seed(manual_seed)\n",
        "    torch.cuda.empty_cache()"
      ]
    },
    {
      "cell_type": "markdown",
      "metadata": {
        "colab_type": "text",
        "id": "NUo6Kmg3ZPwy"
      },
      "source": [
        "## Model Training"
      ]
    },
    {
      "cell_type": "code",
      "execution_count": 6,
      "metadata": {
        "colab": {
          "base_uri": "https://localhost:8080/",
          "height": 64
        },
        "colab_type": "code",
        "id": "V4HQdcGpZL-w",
        "outputId": "8257f56b-fcea-4aab-aae1-df84fb7342cd"
      },
      "outputs": [
        {
          "name": "stderr",
          "output_type": "stream",
          "text": [
            "Traceback (most recent call last):\n",
            "  File \"c:\\Users\\rohan\\Documents\\Github\\gen\\wavegan-pytorch-master\\wavegan-pytorch-master\\train.py\", line 219, in <module>\n",
            "    train_loader = WavDataLoader(os.path.join(target_signals_dir, \"train\"))\n",
            "  File \"c:\\Users\\rohan\\Documents\\Github\\gen\\wavegan-pytorch-master\\wavegan-pytorch-master\\utils.py\", line 214, in __init__\n",
            "    self.signal_paths = get_recursive_files(folder_path, audio_extension)\n",
            "  File \"c:\\Users\\rohan\\Documents\\Github\\gen\\wavegan-pytorch-master\\wavegan-pytorch-master\\utils.py\", line 22, in get_recursive_files\n",
            "    results = os.listdir(folderPath)\n",
            "FileNotFoundError: [WinError 3] The system cannot find the path specified: 'piano\\\\train'\n"
          ]
        }
      ],
      "source": [
        "!python  train.py"
      ]
    }
  ],
  "metadata": {
    "accelerator": "GPU",
    "colab": {
      "name": "WaveGan.ipynb",
      "provenance": [],
      "toc_visible": true
    },
    "kernelspec": {
      "display_name": "Python 3",
      "name": "python3"
    },
    "language_info": {
      "codemirror_mode": {
        "name": "ipython",
        "version": 3
      },
      "file_extension": ".py",
      "mimetype": "text/x-python",
      "name": "python",
      "nbconvert_exporter": "python",
      "pygments_lexer": "ipython3",
      "version": "3.9.10"
    }
  },
  "nbformat": 4,
  "nbformat_minor": 0
}
